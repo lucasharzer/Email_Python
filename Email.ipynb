{
 "cells": [
  {
   "cell_type": "code",
   "execution_count": 5,
   "id": "57a5037c",
   "metadata": {},
   "outputs": [],
   "source": [
    "import smtplib\n",
    "import email.message\n",
    "\n",
    "\n",
    "def enviar_email():\n",
    "    corpo_email = \"\"\"\n",
    "    <h3>Mensagem Motivacional:</h3>\n",
    "    <h3><strong>A pior decisão que você tomou hoje foi acordar, Bom Dia!</strong></h3>\n",
    "    <p>Atensiosamente Python.</p>\n",
    "    \"\"\"\n",
    "    \n",
    "    msg = email.message.Message()\n",
    "    msg['Subject'] = \"Bom Dia!\"\n",
    "    msg['From'] = 'desenvolverjspy@gmail.com'\n",
    "    msg['To'] = 'desenvolverjspy@gmail.com'\n",
    "    # senha do email 'From' (remetente)\n",
    "    password = 'testes7865'\n",
    "    msg.add_header('Content-Type', 'text/html')\n",
    "    msg.set_payload(corpo_email)\n",
    "    \n",
    "    s = smtplib.SMTP('smtp.gmail.com: 587')\n",
    "    s.starttls()\n",
    "    \n",
    "    s.login(msg['From'], password)\n",
    "    s.sendmail(msg['From'], [msg['To']], msg.as_string().encode('utf-8'))\n",
    "    \n",
    "    print(\"Email enviado.\")"
   ]
  },
  {
   "cell_type": "code",
   "execution_count": 6,
   "id": "3423ca4a",
   "metadata": {},
   "outputs": [
    {
     "name": "stdout",
     "output_type": "stream",
     "text": [
      "Email enviado.\n"
     ]
    }
   ],
   "source": [
    "enviar_email()"
   ]
  },
  {
   "cell_type": "code",
   "execution_count": null,
   "id": "e81685c5",
   "metadata": {},
   "outputs": [],
   "source": []
  },
  {
   "cell_type": "code",
   "execution_count": null,
   "id": "cbb27143",
   "metadata": {},
   "outputs": [],
   "source": []
  }
 ],
 "metadata": {
  "kernelspec": {
   "display_name": "Python 3",
   "language": "python",
   "name": "python3"
  },
  "language_info": {
   "codemirror_mode": {
    "name": "ipython",
    "version": 3
   },
   "file_extension": ".py",
   "mimetype": "text/x-python",
   "name": "python",
   "nbconvert_exporter": "python",
   "pygments_lexer": "ipython3",
   "version": "3.8.8"
  }
 },
 "nbformat": 4,
 "nbformat_minor": 5
}
