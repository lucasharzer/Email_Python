{
 "cells": [
  {
   "cell_type": "code",
   "execution_count": 5,
   "id": "57a5037c",
   "metadata": {},
   "outputs": [],
   "source": [
    "import smtplib\n",
    "import email.message\n",
    "\n",
    "\n",
    "def enviar_email():\n",
    "    corpo_email = \"\"\"\n",
    "    <h3>Mensagem Motivacional:</h3>\n",
    "    <h3><strong>A pior decisão que você tomou hoje foi acordar, Bom Dia!</strong></h3>\n",
    "    <p>Atensiosamente Python.</p>\n",
    "    \"\"\"\n",
    "    \n",
    "    msg = email.message.Message()\n",
    "    msg['Subject'] = \"Bom Dia!\"\n",
    "    msg['From'] = 'email do remetente'\n",
    "    msg['To'] = 'email do destinatário'\n",
    "    # senha do email 'From' (remetente)\n",
    "    password = 'senha do remetente'\n",
    "    msg.add_header('Content-Type', 'text/html')\n",
    "    msg.set_payload(corpo_email)\n",
    "    \n",
    "    s = smtplib.SMTP('smtp.gmail.com: 587')\n",
    "    s.starttls()\n",
    "    \n",
    "    s.login(msg['From'], password)\n",
    "    s.sendmail(msg['From'], [msg['To']], msg.as_string().encode('utf-8'))\n",
    "    \n",
    "    print(\"Email enviado.\")"
   ]
  },
  {
   "cell_type": "code",
   "execution_count": 6,
   "id": "3423ca4a",
   "metadata": {},
   "outputs": [
    {
     "name": "stdout",
     "output_type": "stream",
     "text": [
      "Email enviado.\n"
     ]
    }
   ],
   "source": [
    "enviar_email()"
   ]
  }
 ],
 "metadata": {
  "kernelspec": {
   "display_name": "Python 3",
   "language": "python",
   "name": "python3"
  },
  "language_info": {
   "codemirror_mode": {
    "name": "ipython",
    "version": 3
   },
   "file_extension": ".py",
   "mimetype": "text/x-python",
   "name": "python",
   "nbconvert_exporter": "python",
   "pygments_lexer": "ipython3",
   "version": "3.8.8"
  }
 },
 "nbformat": 4,
 "nbformat_minor": 5
}
